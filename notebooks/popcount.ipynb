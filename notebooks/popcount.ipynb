{
 "cells": [
  {
   "cell_type": "markdown",
   "metadata": {},
   "source": [
    "Interesting and quite simple problem to cound 1 bits in buffer.\n",
    "\n",
    "I think you might get different results if your data is not long enough. I got these from some links and then modified to use numpy and bytearray. These are generally untested.\n",
    "\n",
    "http://www.valuedlessons.com/2009/01/popcount-in-python-with-benchmarks.html\n",
    "\n",
    "http://stackoverflow.com/questions/9829578/fast-way-of-counting-bits-in-python\n",
    "\n",
    "http://blog.philippklaus.de/2014/10/counting-bits-set-to-1-in-bytes-with-python-popcount-or-hamming-weight/\n",
    "\n",
    "https://en.wikipedia.org/wiki/Hamming_weight#Efficient_implementation\n",
    "\n",
    "http://www.expobrain.net/2013/07/29/hamming-weights-python-implementation/\n",
    "\n",
    "http://stackoverflow.com/questions/8220801/how-to-use-timeit-module\n",
    "\n",
    "http://graphics.stanford.edu/~seander/bithacks.html\n",
    "\n",
    "Clearly best algorithm depends on data and CPU you currently have. Is data 32-bit, 64-bit or big blob of bytearray?\n",
    "I think it clearly matters how data is arranged. Can you use big numpy darrays or only small arrays or no array at all?"
   ]
  },
  {
   "cell_type": "code",
   "execution_count": 1,
   "metadata": {
    "collapsed": false
   },
   "outputs": [
    {
     "name": "stdout",
     "output_type": "stream",
     "text": [
      "4096\n",
      "(1024,) 1015160900\n",
      "(512,) 14047262688061562948 29\n",
      "16203\n"
     ]
    }
   ],
   "source": [
    "import random, struct\n",
    "import numpy as np\n",
    "import gmpy2\n",
    "from gmpy2 import mpz\n",
    "# not meant to be random\n",
    "random.seed(1)\n",
    "d = bytearray([random.randint(0,255) for i in range(4096)])\n",
    "print(len(d))\n",
    "v = np.frombuffer(d, dtype=np.uint32)\n",
    "print(v.shape, v[0])\n",
    "v = np.frombuffer(d, dtype=np.uint64)*mpz(1)\n",
    "print(v.shape, v[0], gmpy2.popcount(v[0]))\n",
    "\n",
    "def count1s64(d):\n",
    "    v = np.frombuffer(d, dtype=np.uint64)\n",
    "    v = np.bitwise_and(v, 0x5555555555555555) + np.right_shift(np.bitwise_and(v, 0xAAAAAAAAAAAAAAAA), 1)\n",
    "    v = np.bitwise_and(v, 0x3333333333333333) + np.right_shift(np.bitwise_and(v, 0xCCCCCCCCCCCCCCCC), 2)\n",
    "    v = np.bitwise_and(v, 0x0F0F0F0F0F0F0F0F) + np.right_shift(np.bitwise_and(v, 0xF0F0F0F0F0F0F0F0), 4)\n",
    "    v = np.bitwise_and(v, 0x00FF00FF00FF00FF) + np.right_shift(np.bitwise_and(v, 0xFF00FF00FF00FF00), 8)\n",
    "    v = np.bitwise_and(v, 0x0000FFFF0000FFFF) + np.right_shift(np.bitwise_and(v, 0xFFFF0000FFFF0000), 16)\n",
    "    v = np.bitwise_and(v, 0x00000000FFFFFFFF) + np.right_shift(v, 32)\n",
    "    return v.sum()\n",
    "v = np.frombuffer(d, dtype=np.uint64)\n",
    "print(count1s64(d))"
   ]
  },
  {
   "cell_type": "code",
   "execution_count": 2,
   "metadata": {
    "collapsed": false
   },
   "outputs": [
    {
     "name": "stdout",
     "output_type": "stream",
     "text": [
      "[0, 0, 0, 0, 0, 0, 0, 0]\n",
      "[4096, 4096, 4096, 4096, 4096, 4096, 4096, 4096]\n",
      "[32768, 32768, 32768, 32768, 32768, 32768, 32768, 32768]\n"
     ]
    }
   ],
   "source": [
    "import numpy as np\n",
    "import gmpy2\n",
    "from gmpy2 import mpz\n",
    "\n",
    "import random, struct\n",
    "\n",
    "class popcount:\n",
    "    TABLE16 = [0] * 2**16\n",
    "    for index in range(len(TABLE16)):\n",
    "        POPCOUNT_TABLE16p[index] = (index & 1) + TABLE16[index >> 1]\n",
    "\n",
    "    TABLE16 = np.zeros(2**16, dtype=int) #has to be an array\n",
    "\n",
    "    for index in range(len(TABLE16)):\n",
    "        TABLE16[index] = (index & 1) + TABLE16[index >> 1]\n",
    "\n",
    "    def popcount32_table16(v):\n",
    "        return (popcount.POPCOUNT_TABLE16[ v        & 0xffff] +\n",
    "                popcount.POPCOUNT_TABLE16[(v >> 16) & 0xffff])\n",
    "\n",
    "    def popcount64_table16(v):\n",
    "        return (popcount.POPCOUNT_TABLE16[ v        & 0xffff] +\n",
    "                popcount.POPCOUNT_TABLE16[(v >> 16) & 0xffff] +\n",
    "                popcount.POPCOUNT_TABLE16[(v >> 32) & 0xffff] +\n",
    "                popcount.POPCOUNT_TABLE16[(v >> 48) & 0xffff])\n",
    "\n",
    "    def count1s_lut16_32(d):\n",
    "        v = np.frombuffer(d, dtype=np.uint32)\n",
    "        return popcount.popcount32_table16(v).sum()\n",
    "\n",
    "    def count1s_lut16_64(d):\n",
    "        v = np.frombuffer(d, dtype=np.uint64)\n",
    "        return popcount.popcount64_table16(v).sum()\n",
    "\n",
    "    POPCOUNT_TABLE16b = np.zeros(2**16, dtype=np.ubyte) #has to be an array\n",
    "\n",
    "    for index in range(len(POPCOUNT_TABLE16b)):\n",
    "        POPCOUNT_TABLE16b[index] = ((index & 1) + POPCOUNT_TABLE16b[index >> 1]) & 0xff\n",
    "\n",
    "    def popcount32_table16b(v):\n",
    "        return (popcount.POPCOUNT_TABLE16b[ v        & 0xffff] +\n",
    "                popcount.POPCOUNT_TABLE16b[(v >> 16) & 0xffff])\n",
    "\n",
    "    def popcount64_table16b(v):\n",
    "        return (popcount.POPCOUNT_TABLE16b[ v        & 0xffff] +\n",
    "                popcount.POPCOUNT_TABLE16b[(v >> 16) & 0xffff] +\n",
    "                popcount.POPCOUNT_TABLE16b[(v >> 32) & 0xffff] +\n",
    "                popcount.POPCOUNT_TABLE16b[(v >> 48) & 0xffff])\n",
    "\n",
    "    def count1s_lut16b_32(d):\n",
    "        v = np.frombuffer(d, dtype=np.uint32)\n",
    "        return popcount.popcount32_table16b(v).sum()\n",
    "\n",
    "    def count1s_lut16b_64(d):\n",
    "        v = np.frombuffer(d, dtype=np.uint64)\n",
    "        return popcount.popcount64_table16b(v).sum()\n",
    "\n",
    "    m1  = 0x5555555555555555\n",
    "    m2  = 0x3333333333333333\n",
    "    m4  = 0x0f0f0f0f0f0f0f0f\n",
    "    m8  = 0x00ff00ff00ff00ff\n",
    "    m16 = 0x0000ffff0000ffff\n",
    "    m32 = 0x00000000ffffffff\n",
    "    h01 = 0x0101010101010101\n",
    "\n",
    "    def count1s_bw_64(d):\n",
    "        v = np.frombuffer(d, dtype=np.uint64)\n",
    "        v = np.bitwise_and(v, popcount.m1) + np.right_shift(np.bitwise_and(v, 0xAAAAAAAAAAAAAAAA), 1)\n",
    "        v = np.bitwise_and(v, popcount.m2) + np.right_shift(np.bitwise_and(v, 0xCCCCCCCCCCCCCCCC), 2)\n",
    "        v = np.bitwise_and(v, popcount.m4) + np.right_shift(np.bitwise_and(v, 0xF0F0F0F0F0F0F0F0), 4)\n",
    "        v = np.bitwise_and(v, popcount.m8) + np.right_shift(np.bitwise_and(v, 0xFF00FF00FF00FF00), 8)\n",
    "        v = np.bitwise_and(v, popcount.m16) + np.right_shift(np.bitwise_and(v, 0xFFFF0000FFFF0000), 16)\n",
    "        v = np.bitwise_and(v, popcount.m32) + np.right_shift(v, 32)\n",
    "        return v.sum()\n",
    "    \n",
    "    def count1s_bw3_64(d):\n",
    "        v = np.frombuffer(d, dtype=np.uint64)\n",
    "        v = v - np.bitwise_and(np.right_shift(v, 1), popcount.m1)\n",
    "        v = np.bitwise_and(v, popcount.m2) + np.bitwise_and(np.right_shift(v, 2), popcount.m2)\n",
    "        v = np.bitwise_and(v + np.right_shift(v, 4), popcount.m4)\n",
    "        v = np.right_shift(v*popcount.h01, 56)\n",
    "        return v.sum()\n",
    "\n",
    "    ma = 0x01001001001001\n",
    "    mb = 0x84210842108421\n",
    "    \n",
    "    def count1s_bw64_32(d):\n",
    "        v = np.frombuffer(d, dtype=np.uint32)\n",
    "        c = (  np.mod(np.bitwise_and(np.bitwise_and(v, 0xfff) * popcount.ma, popcount.mb), 0x1f)\n",
    "             + np.mod(np.bitwise_and(np.right_shift(np.bitwise_and(v, 0xfff000), 12) * popcount.ma, popcount.mb), 0x1f)\n",
    "             + np.mod(np.bitwise_and(np.right_shift(v, 24) * popcount.ma, popcount.mb), 0x1f)\n",
    "             )\n",
    "        return c.sum()\n",
    "\n",
    "    def count1s_gmpy2_64(d):\n",
    "        v = np.frombuffer(d, dtype=np.uint64)*mpz(1)\n",
    "        return sum(gmpy2.popcount(a) for a in v)\n",
    "\n",
    "popcount_methods = [ a for a in dir(popcount) if a.startswith('count1s') ]\n",
    "popcount_methods.sort()\n",
    "\n",
    "d = bytearray([0 for i in range(4096)])\n",
    "print([getattr(popcount, a)(d) for a in popcount_methods])\n",
    "d = bytearray([1 for i in range(4096)])\n",
    "print([getattr(popcount, a)(d) for a in popcount_methods])\n",
    "d = bytearray([255 for i in range(4096)])\n",
    "print([getattr(popcount, a)(d) for a in popcount_methods])"
   ]
  },
  {
   "cell_type": "code",
   "execution_count": 3,
   "metadata": {
    "collapsed": false
   },
   "outputs": [],
   "source": [
    "import timeit\n",
    "from functools import partial\n",
    "import random"
   ]
  },
  {
   "cell_type": "markdown",
   "metadata": {},
   "source": [
    "count1s64_3 is my current winner for random and big byte buffers. count1sb is faster here than example because array is lot smaller and easier to handle."
   ]
  },
  {
   "cell_type": "code",
   "execution_count": 4,
   "metadata": {
    "collapsed": false
   },
   "outputs": [
    {
     "name": "stdout",
     "output_type": "stream",
     "text": [
      "[1638868, 1638868, 1638868, 1638868, 1638868, 1638868, 1638868, 1638868]\n"
     ]
    }
   ],
   "source": [
    "# not meant to be random\n",
    "random.seed(1)\n",
    "d = bytearray([random.randint(0,255) for i in range(409600)])\n",
    "number = 2000\n",
    "repeat = 3\n",
    "\n",
    "print([getattr(popcount, a)(d) for a in popcount_methods])"
   ]
  },
  {
   "cell_type": "code",
   "execution_count": 5,
   "metadata": {
    "collapsed": false
   },
   "outputs": [
    {
     "name": "stdout",
     "output_type": "stream",
     "text": [
      "count1s_bw3_64 [1.4683719020104036, 1.4148216699977638, 1.4016192650015]\n",
      "count1s_bw64_32 [8.37341797100089, 7.9708313930023, 8.074154420988634]\n",
      "count1s_bw_64 [2.4289934129919857, 2.5376295519963605, 2.4208389060077025]\n",
      "count1s_lut16_32 [2.9401849119894905, 2.9334342200018, 2.944310881997808]\n",
      "count1s_lut16_64 [3.282487571006641, 3.0218097100005252, 3.066016472002957]\n",
      "count1s_lut16b_32 [2.5898498320020735, 2.573576871000114, 2.5618909079930745]\n",
      "count1s_lut16b_64 [3.2609805679967394, 3.2522625860001426, 3.174878998994245]\n"
     ]
    }
   ],
   "source": [
    "for a in popcount_methods:\n",
    "    if a.find('gmpy') != -1: continue # is >*10 lut16_32\n",
    "    print(a, timeit.repeat(partial(getattr(popcount, a), d), number=number, repeat=repeat))"
   ]
  },
  {
   "cell_type": "markdown",
   "metadata": {},
   "source": [
    "Situation is lot tighter when bytearray is small. Seems is it about as fasto to initialize couple 32-bit arrays than couple of 8-bit arrays."
   ]
  },
  {
   "cell_type": "code",
   "execution_count": 6,
   "metadata": {
    "collapsed": false
   },
   "outputs": [
    {
     "name": "stdout",
     "output_type": "stream",
     "text": [
      "[61, 61, 61, 61, 61, 61, 61, 61]\n"
     ]
    }
   ],
   "source": [
    "random.seed(1)\n",
    "d = bytearray([random.randint(0,255) for i in range(16)])\n",
    "number = 200000\n",
    "repeate = 3\n",
    "\n",
    "print([getattr(popcount, a)(d) for a in popcount_methods])"
   ]
  },
  {
   "cell_type": "code",
   "execution_count": 7,
   "metadata": {
    "collapsed": false
   },
   "outputs": [
    {
     "name": "stdout",
     "output_type": "stream",
     "text": [
      "count1s_bw3_64 [6.049276787991403, 5.891717788006645, 5.826870687000337]\n",
      "count1s_bw64_32 [7.775227784004528, 7.900869042001432, 7.896300934007741]\n",
      "count1s_bw_64 [9.971313382004155, 9.747144970999216, 10.274215188008384]\n",
      "count1s_lut16_32 [5.353110508003738, 5.32542279700283, 5.0078755549911875]\n",
      "count1s_lut16_64 [8.285028084996156, 8.521008486000937, 8.355133912991732]\n",
      "count1s_lut16b_32 [5.082212816996616, 5.206349861997296, 5.399853406008333]\n",
      "count1s_lut16b_64 [9.021002337991376, 9.078560581998318, 9.17489140899852]\n"
     ]
    }
   ],
   "source": [
    "for a in popcount_methods:\n",
    "    if a.find('gmpy') != -1: continue\n",
    "    print(a, timeit.repeat(partial(getattr(popcount, a), d), number=number, repeat=repeat))"
   ]
  },
  {
   "cell_type": "markdown",
   "metadata": {},
   "source": [
    "Another variant, where vector is initialized before."
   ]
  },
  {
   "cell_type": "code",
   "execution_count": 48,
   "metadata": {
    "collapsed": false
   },
   "outputs": [
    {
     "data": {
      "text/plain": [
       "['count1s_bw1a_64',\n",
       " 'count1s_bw1b_64',\n",
       " 'count1s_bw2_64',\n",
       " 'count1s_bw3_64',\n",
       " 'count1s_bw64_32',\n",
       " 'count1s_gmpy2',\n",
       " 'count1s_lut16_32',\n",
       " 'count1s_lut16_64',\n",
       " 'count1s_lut16b_32',\n",
       " 'count1s_lut16b_64',\n",
       " 'count1s_lut16i_32',\n",
       " 'count1s_lut16i_64',\n",
       " 'count1s_lut8_32',\n",
       " 'count1s_lut8_64',\n",
       " 'count1s_naive',\n",
       " 'count1s_npbw1a_64',\n",
       " 'count1s_npbw1b_64',\n",
       " 'count1s_npbw2_64',\n",
       " 'count1s_npbw3_64',\n",
       " 'count1s_npbw64_32',\n",
       " 'count1s_nplut16b_32',\n",
       " 'count1s_nplut16b_64',\n",
       " 'count1s_nplut16i_32',\n",
       " 'count1s_nplut16i_64',\n",
       " 'count1s_pythonic',\n",
       " 'count1s_zero_64']"
      ]
     },
     "execution_count": 48,
     "metadata": {},
     "output_type": "execute_result"
    }
   ],
   "source": [
    "class popcount_v:\n",
    "    def count1s_naive(ve):\n",
    "        c = 0\n",
    "        for v in ve.tolist():\n",
    "            while(v):\n",
    "                c += v & 1\n",
    "                v >>= 1\n",
    "        return c\n",
    "    \n",
    "    def count1s_pythonic(ve):\n",
    "        c = 0\n",
    "        for v in ve.tolist():\n",
    "            c += bin(v).count(\"1\")\n",
    "        return c\n",
    "\n",
    "    TABLE8 = [0] * 2**8\n",
    "    for index in range(len(TABLE8)):\n",
    "        TABLE8[index] = (index & 1) + TABLE8[index >> 1]\n",
    "    def popcount32_table8(v):\n",
    "        return (popcount_v.TABLE8[ v        & 0xff ] +\n",
    "                popcount_v.TABLE8[(v >>  8) & 0xff ] +\n",
    "                popcount_v.TABLE8[(v >> 16) & 0xff ] +\n",
    "                popcount_v.TABLE8[(v >> 24)        ])\n",
    "    def popcount64_table8(v):\n",
    "        return (popcount_v.TABLE8[ v        & 0xff ] +\n",
    "                popcount_v.TABLE8[(v >>  8) & 0xff ] +\n",
    "                popcount_v.TABLE8[(v >> 16) & 0xff ] +\n",
    "                popcount_v.TABLE8[(v >> 24) & 0xff ] +\n",
    "                popcount_v.TABLE8[(v >> 32) & 0xff ] +\n",
    "                popcount_v.TABLE8[(v >> 40) & 0xff ] +\n",
    "                popcount_v.TABLE8[(v >> 48) & 0xff ] +\n",
    "                popcount_v.TABLE8[(v >> 56)        ])\n",
    "    def count1s_lut8_32(ve):\n",
    "        c = 0\n",
    "        for v in ve.tolist():\n",
    "            c += popcount_v.popcount32_table8(v)\n",
    "        return c\n",
    "    def count1s_lut8_64(ve):\n",
    "        c = 0\n",
    "        for v in ve.tolist():\n",
    "            c += popcount_v.popcount64_table8(v)\n",
    "        return c\n",
    "\n",
    "    TABLE16 = [0] * 2**16\n",
    "    for index in range(len(TABLE16)):\n",
    "        TABLE16[index] = (index & 1) + TABLE16[index >> 1]\n",
    "    def popcount32_table16(v):\n",
    "        return (popcount_v.TABLE16[ v & 0xffff ] +\n",
    "                popcount_v.TABLE16[ v >> 16    ])\n",
    "    def popcount64_table16(v):\n",
    "        return (popcount_v.TABLE16[ v        & 0xffff] +\n",
    "                popcount_v.TABLE16[(v >> 16) & 0xffff] +\n",
    "                popcount_v.TABLE16[(v >> 32) & 0xffff] +\n",
    "                popcount_v.TABLE16[(v >> 48)         ])\n",
    "    def count1s_lut16_32(ve):\n",
    "        c = 0\n",
    "        for v in ve.tolist():\n",
    "            c += popcount_v.popcount32_table16(v)\n",
    "        return c\n",
    "    def count1s_lut16_64(ve):\n",
    "        c = 0\n",
    "        for v in ve.tolist():\n",
    "            c += popcount_v.popcount64_table16(v)\n",
    "        return c\n",
    "\n",
    "    TABLE16_npi = np.zeros(2**16, dtype=int) #has to be an array\n",
    "    for index in range(len(TABLE16_npi)):\n",
    "        TABLE16_npi[index] = (index & 1) + TABLE16_npi[index >> 1]\n",
    "    def popcount32_table16_npi(v):\n",
    "        return (popcount_v.TABLE16_npi[ v & 0xffff ] +\n",
    "                popcount_v.TABLE16_npi[ v >> 16    ])\n",
    "    def popcount64_table16_npi(v):\n",
    "        return (popcount_v.TABLE16_npi[ v        & 0xffff ] +\n",
    "                popcount_v.TABLE16_npi[(v >> 16) & 0xffff ] +\n",
    "                popcount_v.TABLE16_npi[(v >> 32) & 0xffff ] +\n",
    "                popcount_v.TABLE16_npi[(v >> 48)          ])\n",
    "    def count1s_nplut16i_32(v):\n",
    "        return popcount_v.popcount32_table16_npi(v).sum()\n",
    "    def count1s_nplut16i_64(v):\n",
    "        return popcount_v.popcount64_table16_npi(v).sum()\n",
    "    def count1s_lut16i_32(ve):\n",
    "        c = 0\n",
    "        for v in ve.tolist():\n",
    "            c += popcount_v.popcount32_table16_npi(v)\n",
    "        return c\n",
    "    def count1s_lut16i_64(ve):\n",
    "        c = 0\n",
    "        for v in ve.tolist():\n",
    "            c += popcount_v.popcount64_table16_npi(v)\n",
    "        return c\n",
    "\n",
    "    TABLE16_npb = np.zeros(2**16, dtype=np.byte) #has to be an array\n",
    "    for index in range(len(TABLE16_npb)):\n",
    "        TABLE16_npb[index] = (index & 1) + TABLE16_npb[index >> 1]\n",
    "    def popcount32_table16_npb(v):\n",
    "        return (popcount_v.TABLE16_npb[ v & 0xffff ] +\n",
    "                popcount_v.TABLE16_npb[ v >> 16    ])\n",
    "    def popcount64_table16_npb(v):\n",
    "        return (popcount_v.TABLE16_npb[ v        & 0xffff ] +\n",
    "                popcount_v.TABLE16_npb[(v >> 16) & 0xffff ] +\n",
    "                popcount_v.TABLE16_npb[(v >> 32) & 0xffff ] +\n",
    "                popcount_v.TABLE16_npb[(v >> 48)          ])\n",
    "    def count1s_nplut16b_32(v):\n",
    "        return popcount_v.popcount32_table16_npb(v).sum()\n",
    "    def count1s_nplut16b_64(v):\n",
    "        return popcount_v.popcount64_table16_npb(v).sum()\n",
    "    def count1s_lut16b_32(ve):\n",
    "        c = 0\n",
    "        for v in ve.tolist():\n",
    "            c += popcount_v.popcount32_table16_npb(v)\n",
    "        return c\n",
    "    def count1s_lut16b_64(ve):\n",
    "        c = 0\n",
    "        for v in ve.tolist():\n",
    "            c += popcount_v.popcount64_table16_npb(v)\n",
    "        return c\n",
    "\n",
    "    m1   = 0x5555555555555555\n",
    "    m1b  = 0xAAAAAAAAAAAAAAAA\n",
    "    m2   = 0x3333333333333333\n",
    "    m2b  = 0xCCCCCCCCCCCCCCCC\n",
    "    m4   = 0x0f0f0f0f0f0f0f0f\n",
    "    m4b  = 0xf0f0f0f0f0f0f0f0\n",
    "    m8   = 0x00ff00ff00ff00ff\n",
    "    m8b  = 0xff00ff00ff00ff00\n",
    "    m16  = 0x0000ffff0000ffff\n",
    "    m16b = 0xffff0000ffff0000\n",
    "    m32  = 0x00000000ffffffff\n",
    "    h01  = 0x0101010101010101\n",
    "\n",
    "    def count1s_bw1a_64(ve):\n",
    "        c = 0\n",
    "        for v in ve.tolist():\n",
    "            v = (v & popcount_v.m1 ) + ((v & popcount_v.m1b ) >> 1 )\n",
    "            v = (v & popcount_v.m2 ) + ((v & popcount_v.m2b ) >> 2 )\n",
    "            v = (v & popcount_v.m4 ) + ((v & popcount_v.m4b ) >> 4 )\n",
    "            v = (v & popcount_v.m8 ) + ((v & popcount_v.m8b ) >> 8 )\n",
    "            v = (v & popcount_v.m16) + ((v & popcount_v.m16b) >> 16)\n",
    "            v = (v & popcount_v.m32) + (v >> 32)\n",
    "            c += v\n",
    "        return c\n",
    "\n",
    "    def count1s_npbw1a_64(v):\n",
    "        v = np.bitwise_and(v, popcount_v.m1 ) + np.right_shift(np.bitwise_and(v, popcount_v.m1b ),  1)\n",
    "        v = np.bitwise_and(v, popcount_v.m2 ) + np.right_shift(np.bitwise_and(v, popcount_v.m2b ),  2)\n",
    "        v = np.bitwise_and(v, popcount_v.m4 ) + np.right_shift(np.bitwise_and(v, popcount_v.m4b ),  4)\n",
    "        v = np.bitwise_and(v, popcount_v.m8 ) + np.right_shift(np.bitwise_and(v, popcount_v.m8b ),  8)\n",
    "        v = np.bitwise_and(v, popcount_v.m16) + np.right_shift(np.bitwise_and(v, popcount_v.m16b), 16)\n",
    "        v = np.bitwise_and(v, popcount_v.m32) + np.right_shift(v, 32)\n",
    "        return v.sum()\n",
    "    \n",
    "    def count1s_bw1b_64(ve):\n",
    "        c = 0\n",
    "        for v in ve.tolist():\n",
    "            v = (v & popcount_v.m1 ) + ((v >>  1) & popcount_v.m1 )\n",
    "            v = (v & popcount_v.m2 ) + ((v >>  2) & popcount_v.m2 )\n",
    "            v = (v & popcount_v.m4 ) + ((v >>  4) & popcount_v.m4 )\n",
    "            v = (v & popcount_v.m8 ) + ((v >>  8) & popcount_v.m8 )\n",
    "            v = (v & popcount_v.m16) + ((v >> 16) & popcount_v.m16)\n",
    "            v = (v & popcount_v.m32) + ((v >> 32) & popcount_v.m32)\n",
    "            c += v\n",
    "        return c\n",
    "\n",
    "    def count1s_npbw1b_64(v):\n",
    "        v = np.bitwise_and(v, popcount_v.m1 ) + np.bitwise_and(np.right_shift(v,  1), popcount_v.m1 )\n",
    "        v = np.bitwise_and(v, popcount_v.m2 ) + np.bitwise_and(np.right_shift(v,  2), popcount_v.m2 )\n",
    "        v = np.bitwise_and(v, popcount_v.m4 ) + np.bitwise_and(np.right_shift(v,  4), popcount_v.m4 )\n",
    "        v = np.bitwise_and(v, popcount_v.m8 ) + np.bitwise_and(np.right_shift(v,  8), popcount_v.m8 )\n",
    "        v = np.bitwise_and(v, popcount_v.m16) + np.bitwise_and(np.right_shift(v, 16), popcount_v.m16)\n",
    "        v = np.bitwise_and(v, popcount_v.m32) + np.bitwise_and(np.right_shift(v, 32), popcount_v.m32)\n",
    "        return v.sum()\n",
    "    \n",
    "    def count1s_bw2_64(ve):\n",
    "        c = 0\n",
    "        for v in ve.tolist():\n",
    "            v -= (v >> 1) & popcount_v.m1\n",
    "            v = (v & popcount_v.m2) + ((v >> 2) & popcount_v.m2)\n",
    "            v = (v + (v >> 4)) & popcount_v.m4\n",
    "            v += v >> 8\n",
    "            v += v >> 16\n",
    "            v += v >> 32\n",
    "            c += (v & 0x7f)\n",
    "        return c\n",
    "\n",
    "    def count1s_npbw2_64(v):\n",
    "        v = v - np.bitwise_and(np.right_shift(v, 1), popcount_v.m1)\n",
    "        v = np.bitwise_and(v, popcount_v.m2) + np.bitwise_and(np.right_shift(v, 2), popcount_v.m2)\n",
    "        v = np.bitwise_and(v + np.right_shift(v, 4), popcount_v.m4)\n",
    "        v += np.right_shift(v, 8)\n",
    "        v += np.right_shift(v, 16)\n",
    "        v = np.bitwise_and(v + np.right_shift(v, 32), 0x7f)\n",
    "        return v.sum()\n",
    "\n",
    "    def count1s_bw3_64(ve):\n",
    "        c = 0\n",
    "        for v in ve.tolist():\n",
    "            v -= (v >> 1) & popcount_v.m1\n",
    "            v = (v & popcount_v.m2) + ((v >> 2) & popcount_v.m2)\n",
    "            v = (v + (v >> 4)) & popcount_v.m4\n",
    "            v = (v * popcount_v.h01 & 0xffffffffffffffff) >> 56\n",
    "            c += v\n",
    "        return c\n",
    "\n",
    "    def count1s_npbw3_64(v):\n",
    "        v = v - np.bitwise_and(np.right_shift(v, 1), popcount_v.m1)\n",
    "        v = np.bitwise_and(v, popcount_v.m2) + np.bitwise_and(np.right_shift(v, 2), popcount_v.m2)\n",
    "        v = np.bitwise_and(v + np.right_shift(v, 4), popcount_v.m4)\n",
    "        v = np.right_shift(v * popcount_v.h01, 56)\n",
    "        return v.sum()\n",
    "\n",
    "    def count1s_zero_64(ve):\n",
    "        c = 0\n",
    "        for x in ve.tolist():\n",
    "            while x:\n",
    "                x &= x - 1\n",
    "                c += 1\n",
    "        return c\n",
    "\n",
    "    ma = 0x01001001001001\n",
    "    mb = 0x84210842108421\n",
    "    \n",
    "    def count1s_bw64_32(ve):\n",
    "        c = 0\n",
    "        for v in ve.tolist():\n",
    "            c += ((((v & 0xfff) * popcount_v.ma & popcount_v.mb) % 0x1f)\n",
    "                  + ((((v & 0xfff000) >> 12) * popcount_v.ma & popcount_v.mb) % 0x1f)\n",
    "                  + (((v >> 24) * popcount_v.ma & popcount_v.mb) % 0x1f))\n",
    "        return c\n",
    "\n",
    "    def count1s_npbw64_32(v):\n",
    "        c = (  np.mod(np.bitwise_and(np.bitwise_and(v, 0xfff) * popcount_v.ma, popcount_v.mb), 0x1f)\n",
    "             + np.mod(np.bitwise_and(np.right_shift(np.bitwise_and(v, 0xfff000), 12) * popcount_v.ma, popcount_v.mb), 0x1f)\n",
    "             + np.mod(np.bitwise_and(np.right_shift(v, 24) * popcount_v.ma, popcount_v.mb), 0x1f)\n",
    "             )\n",
    "        return c.sum()\n",
    "\n",
    "    def count1s_gmpy2(v):\n",
    "        v2 = v*mpz(1)\n",
    "        return sum(gmpy2.popcount(a) for a in v2)\n",
    "\n",
    "popcount_v_methods = [ a for a in dir(popcount_v) if a.startswith('count1s') ]\n",
    "popcount_v_methods.sort()\n",
    "popcount_v_methods"
   ]
  },
  {
   "cell_type": "code",
   "execution_count": 49,
   "metadata": {
    "collapsed": false
   },
   "outputs": [],
   "source": [
    "da = (4, 8, 16)\n",
    "numa = (0, 1, 255)\n",
    "for j in range(len(da)):\n",
    "    ra = (0*da[j], 1*da[j], 8*da[j])\n",
    "    for i in range(len(numa)):\n",
    "        num = numa[i]\n",
    "        d = bytearray([num for i in range(da[j])])\n",
    "        l = []\n",
    "        for a in popcount_v_methods:\n",
    "            if a.endswith('_64') and da[j] < 8: continue\n",
    "            if a.endswith('_32') or da[j] < 8:\n",
    "                v = np.frombuffer(d, dtype=np.uint32)\n",
    "            else:                \n",
    "                v = np.frombuffer(d, dtype=np.uint64)\n",
    "            r = getattr(popcount_v, a)(v)\n",
    "            l.append({a: r})\n",
    "            if r != ra[i]:\n",
    "                print(\"ERROR:\", a, numa[i], r, \"!=\", ra[i])\n",
    "        #print(num, l)"
   ]
  },
  {
   "cell_type": "markdown",
   "metadata": {},
   "source": [
    "Run through different vector sizes."
   ]
  },
  {
   "cell_type": "code",
   "execution_count": 50,
   "metadata": {
    "collapsed": false
   },
   "outputs": [
    {
     "name": "stdout",
     "output_type": "stream",
     "text": [
      "4 [{'count1s_bw64_32': 9}, {'count1s_gmpy2': 9}, {'count1s_lut16_32': 9}, {'count1s_lut16b_32': 9}, {'count1s_lut16i_32': 9}, {'count1s_lut8_32': 9}, {'count1s_naive': 9}, {'count1s_npbw64_32': 9}, {'count1s_nplut16b_32': 9}, {'count1s_nplut16i_32': 9}, {'count1s_pythonic': 9}]\n",
      "8 [{'count1s_bw1a_64': 29}, {'count1s_bw1b_64': 29}, {'count1s_bw2_64': 29}, {'count1s_bw3_64': 29}, {'count1s_bw64_32': 29}, {'count1s_gmpy2': 29}, {'count1s_lut16_32': 29}, {'count1s_lut16_64': 29}, {'count1s_lut16b_32': 29}, {'count1s_lut16b_64': 29}, {'count1s_lut16i_32': 29}, {'count1s_lut16i_64': 29}, {'count1s_lut8_32': 29}, {'count1s_lut8_64': 29}, {'count1s_naive': 29}, {'count1s_npbw1a_64': 29}, {'count1s_npbw1b_64': 29}, {'count1s_npbw2_64': 29}, {'count1s_npbw3_64': 29}, {'count1s_npbw64_32': 29}, {'count1s_nplut16b_32': 29}, {'count1s_nplut16b_64': 29}, {'count1s_nplut16i_32': 29}, {'count1s_nplut16i_64': 29}, {'count1s_pythonic': 29}, {'count1s_zero_64': 29}]\n",
      "16 [{'count1s_bw1a_64': 61}, {'count1s_bw1b_64': 61}, {'count1s_bw2_64': 61}, {'count1s_bw3_64': 61}, {'count1s_bw64_32': 61}, {'count1s_gmpy2': 61}, {'count1s_lut16_32': 61}, {'count1s_lut16_64': 61}, {'count1s_lut16b_32': 61}, {'count1s_lut16b_64': 61}, {'count1s_lut16i_32': 61}, {'count1s_lut16i_64': 61}, {'count1s_lut8_32': 61}, {'count1s_lut8_64': 61}, {'count1s_naive': 61}, {'count1s_npbw1a_64': 61}, {'count1s_npbw1b_64': 61}, {'count1s_npbw2_64': 61}, {'count1s_npbw3_64': 61}, {'count1s_npbw64_32': 61}, {'count1s_nplut16b_32': 61}, {'count1s_nplut16b_64': 61}, {'count1s_nplut16i_32': 61}, {'count1s_nplut16i_64': 61}, {'count1s_pythonic': 61}, {'count1s_zero_64': 61}]\n",
      "1024 [{'count1s_bw1a_64': 4000}, {'count1s_bw1b_64': 4000}, {'count1s_bw2_64': 4000}, {'count1s_bw3_64': 4000}, {'count1s_bw64_32': 4000}, {'count1s_gmpy2': 4000}, {'count1s_lut16_32': 4000}, {'count1s_lut16_64': 4000}, {'count1s_lut16b_32': 4000}, {'count1s_lut16b_64': 4000}, {'count1s_lut16i_32': 4000}, {'count1s_lut16i_64': 4000}, {'count1s_lut8_32': 4000}, {'count1s_lut8_64': 4000}, {'count1s_naive': 4000}, {'count1s_npbw1a_64': 4000}, {'count1s_npbw1b_64': 4000}, {'count1s_npbw2_64': 4000}, {'count1s_npbw3_64': 4000}, {'count1s_npbw64_32': 4000}, {'count1s_nplut16b_32': 4000}, {'count1s_nplut16b_64': 4000}, {'count1s_nplut16i_32': 4000}, {'count1s_nplut16i_64': 4000}, {'count1s_pythonic': 4000}, {'count1s_zero_64': 4000}]\n",
      "4096 [{'count1s_bw1a_64': 16203}, {'count1s_bw1b_64': 16203}, {'count1s_bw2_64': 16203}, {'count1s_bw3_64': 16203}, {'count1s_bw64_32': 16203}, {'count1s_gmpy2': 16203}, {'count1s_lut16_32': 16203}, {'count1s_lut16_64': 16203}, {'count1s_lut16b_32': 16203}, {'count1s_lut16b_64': 16203}, {'count1s_lut16i_32': 16203}, {'count1s_lut16i_64': 16203}, {'count1s_lut8_32': 16203}, {'count1s_lut8_64': 16203}, {'count1s_naive': 16203}, {'count1s_npbw1a_64': 16203}, {'count1s_npbw1b_64': 16203}, {'count1s_npbw2_64': 16203}, {'count1s_npbw3_64': 16203}, {'count1s_npbw64_32': 16203}, {'count1s_nplut16b_32': 16203}, {'count1s_nplut16b_64': 16203}, {'count1s_nplut16i_32': 16203}, {'count1s_nplut16i_64': 16203}, {'count1s_pythonic': 16203}, {'count1s_zero_64': 16203}]\n",
      "409600 [{'count1s_bw1a_64': 1638868}, {'count1s_bw1b_64': 1638868}, {'count1s_bw2_64': 1638868}, {'count1s_bw3_64': 1638868}, {'count1s_bw64_32': 1638868}, {'count1s_gmpy2': 1638868}, {'count1s_lut16_32': 1638868}, {'count1s_lut16_64': 1638868}, {'count1s_lut16b_32': 1638868}, {'count1s_lut16b_64': 1638868}, {'count1s_lut16i_32': 1638868}, {'count1s_lut16i_64': 1638868}, {'count1s_lut8_32': 1638868}, {'count1s_lut8_64': 1638868}, {'count1s_naive': 1638868}, {'count1s_npbw1a_64': 1638868}, {'count1s_npbw1b_64': 1638868}, {'count1s_npbw2_64': 1638868}, {'count1s_npbw3_64': 1638868}, {'count1s_npbw64_32': 1638868}, {'count1s_nplut16b_32': 1638868}, {'count1s_nplut16b_64': 1638868}, {'count1s_nplut16i_32': 1638868}, {'count1s_nplut16i_64': 1638868}, {'count1s_pythonic': 1638868}, {'count1s_zero_64': 1638868}]\n"
     ]
    }
   ],
   "source": [
    "da = (4,      8,      16,     1024,  4096,  409600)\n",
    "na = (500000, 500000, 100000, 10000, 10000, 1000)\n",
    "for i in range(len(da)):\n",
    "    random.seed(1)\n",
    "    d = bytearray([random.randint(0,255) for i in range(da[i])])\n",
    "    number = na[i]\n",
    "    repeat = 3\n",
    "    l = []\n",
    "    res = 0\n",
    "    for a in popcount_v_methods:\n",
    "        if a.endswith('_64') and da[i] < 8: continue\n",
    "        if a.endswith('_32') or da[i] < 8:\n",
    "            v = np.frombuffer(d, dtype=np.uint32)\n",
    "        else:\n",
    "            v = np.frombuffer(d, dtype=np.uint64)\n",
    "        r = getattr(popcount_v, a)(v)\n",
    "        if res == 0: res = r\n",
    "        if res != r:\n",
    "            print(\"ERROR:\", a, i, r, \"!=\", res)\n",
    "        l.append({a: r})\n",
    "    print(da[i], l)"
   ]
  },
  {
   "cell_type": "code",
   "execution_count": null,
   "metadata": {
    "collapsed": false,
    "scrolled": true
   },
   "outputs": [
    {
     "name": "stdout",
     "output_type": "stream",
     "text": [
      "count1s_bw64_32           4 500000    1.88MiB/s [1.2127806330099702, 1.015080700017279, 1.064274738979293]\n",
      "count1s_lut16_32          4 500000    3.02MiB/s"
     ]
    }
   ],
   "source": [
    "for i in range(len(da)):\n",
    "    random.seed(1)\n",
    "    d = bytearray([random.randint(0,255) for i in range(da[i])])\n",
    "    number = na[i]\n",
    "    repeat = 3\n",
    "    for a in popcount_v_methods:\n",
    "        if a.find('gmpy') != -1: continue\n",
    "        if a.endswith('_64') and da[i] < 8: continue\n",
    "        if a.endswith('_32') or da[i] < 8:\n",
    "            v = np.frombuffer(d, dtype=np.uint32)\n",
    "        else:\n",
    "            v = np.frombuffer(d, dtype=np.uint64)\n",
    "        r = timeit.repeat(partial(getattr(popcount_v, a), v), number=number, repeat=repeat)\n",
    "        ra = max(da[i]*na[i] / np.array(r))\n",
    "        if ra > 1024*1024*1.5:\n",
    "            ra = \"{0:.2f}MiB/s\".format(ra/1024/1024)\n",
    "        elif ra > 1024*1.5:\n",
    "            ra = \"{0:.2f}kiB/s\".format(ra/1024)\n",
    "        elif ra > 1.5:\n",
    "            ra = \"{0:.2f}B/s\".format(ra)\n",
    "        print(\"{:20s} {:6d} {:6d} {:>12s}\".format(a, da[i], na[i], ra), r)\n"
   ]
  },
  {
   "cell_type": "code",
   "execution_count": null,
   "metadata": {
    "collapsed": true
   },
   "outputs": [],
   "source": []
  }
 ],
 "metadata": {
  "kernelspec": {
   "display_name": "Python 3",
   "language": "python",
   "name": "python3"
  },
  "language_info": {
   "codemirror_mode": {
    "name": "ipython",
    "version": 3
   },
   "file_extension": ".py",
   "mimetype": "text/x-python",
   "name": "python",
   "nbconvert_exporter": "python",
   "pygments_lexer": "ipython3",
   "version": "3.4.3"
  }
 },
 "nbformat": 4,
 "nbformat_minor": 0
}
