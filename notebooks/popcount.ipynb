{
 "cells": [
  {
   "cell_type": "code",
   "execution_count": null,
   "metadata": {
    "collapsed": true
   },
   "outputs": [],
   "source": [
    "setup_a = \"\"\"\n",
    "import numpy as np\n",
    "\n",
    "POPCOUNT_TABLE16 = np.zeros(2**16, dtype=int) #has to be an array\n",
    "\n",
    "for index in range(len(POPCOUNT_TABLE16)):\n",
    "    POPCOUNT_TABLE16[index] = (index & 1) + POPCOUNT_TABLE16[index >> 1]\n",
    "\n",
    "def popcount32_table16(v):\n",
    "    return (POPCOUNT_TABLE16[ v        & 0xffff] +\n",
    "            POPCOUNT_TABLE16[(v >> 16) & 0xffff])\n",
    "\n",
    "def count1s(v):\n",
    "    return popcount32_table16(v).sum()\n",
    "\n",
    "POPCOUNT_TABLE16b = np.zeros(2**16, dtype=np.byte) #has to be an array\n",
    "\n",
    "for index in range(len(POPCOUNT_TABLE16b)):\n",
    "    POPCOUNT_TABLE16b[index] = (index & 1) + POPCOUNT_TABLE16b[index >> 1]\n",
    "\n",
    "def popcount32_table16b(v):\n",
    "    return (POPCOUNT_TABLE16b[ v        & 0xffff] +\n",
    "            POPCOUNT_TABLE16b[(v >> 16) & 0xffff])\n",
    "\n",
    "def count1sb(v):\n",
    "    return popcount32_table16b(v).sum()\n",
    "\n",
    "v1 = np.arange(1000, dtype=np.int64)*12345678901234567 #numpy array\n",
    "\"\"\"\n",
    "\n",
    "setup_g = \"\"\"\n",
    "import numpy as np\n",
    "import gmpy2\n",
    "from gmpy2 import mpz\n",
    "\n",
    "def gmpy2count1s(v):\n",
    "    return sum(gmpy2.popcount(a) for a in v)\n",
    "\n",
    "v1 = np.arange(1000, dtype=np.object)*mpz(12345678901234567) #numpy array\n",
    "\"\"\"\n",
    "\n",
    "from timeit import timeit"
   ]
  },
  {
   "cell_type": "code",
   "execution_count": null,
   "metadata": {
    "collapsed": true
   },
   "outputs": [],
   "source": [
    "timeit(\"count1s(v1)\", setup=setup_a)"
   ]
  },
  {
   "cell_type": "code",
   "execution_count": null,
   "metadata": {
    "collapsed": true
   },
   "outputs": [],
   "source": [
    "timeit(\"count1sb(v1)\", setup=setup_a)"
   ]
  },
  {
   "cell_type": "code",
   "execution_count": null,
   "metadata": {
    "collapsed": true
   },
   "outputs": [],
   "source": [
    "timeit(\"gmpy2count1s(v1)\", setup=setup_g)"
   ]
  }
 ],
 "metadata": {
  "kernelspec": {
   "display_name": "Python 3",
   "language": "python",
   "name": "python3"
  },
  "language_info": {
   "codemirror_mode": {
    "name": "ipython",
    "version": 3
   },
   "file_extension": ".py",
   "mimetype": "text/x-python",
   "name": "python",
   "nbconvert_exporter": "python",
   "pygments_lexer": "ipython3",
   "version": "3.4.3"
  }
 },
 "nbformat": 4,
 "nbformat_minor": 0
}
