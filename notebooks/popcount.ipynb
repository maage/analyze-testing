{
 "cells": [
  {
   "cell_type": "markdown",
   "metadata": {},
   "source": [
    "Interesting and quite simple problem to cound 1 bits in buffer.\n",
    "\n",
    "I think you might get different results if your data is not long enough. I got these from some links and then modified to use numpy and bytearray. These are generally untested.\n",
    "\n",
    "http://www.valuedlessons.com/2009/01/popcount-in-python-with-benchmarks.html\n",
    "\n",
    "http://stackoverflow.com/questions/9829578/fast-way-of-counting-bits-in-python\n",
    "\n",
    "http://blog.philippklaus.de/2014/10/counting-bits-set-to-1-in-bytes-with-python-popcount-or-hamming-weight/\n",
    "\n",
    "https://en.wikipedia.org/wiki/Hamming_weight#Efficient_implementation\n",
    "\n",
    "http://www.expobrain.net/2013/07/29/hamming-weights-python-implementation/\n",
    "\n",
    "http://stackoverflow.com/questions/8220801/how-to-use-timeit-module\n",
    "\n",
    "http://graphics.stanford.edu/~seander/bithacks.html"
   ]
  },
  {
   "cell_type": "code",
   "execution_count": 1,
   "metadata": {
    "collapsed": false
   },
   "outputs": [
    {
     "name": "stdout",
     "output_type": "stream",
     "text": [
      "4096\n",
      "(1024,) 1015160900\n",
      "(512,) 14047262688061562948 29\n",
      "16203\n"
     ]
    }
   ],
   "source": [
    "import random, struct\n",
    "import numpy as np\n",
    "import gmpy2\n",
    "from gmpy2 import mpz\n",
    "# not meant to be random\n",
    "random.seed(1)\n",
    "d = bytearray([random.randint(0,255) for i in range(4096)])\n",
    "print(len(d))\n",
    "v = np.frombuffer(d, dtype=np.uint32)\n",
    "print(v.shape, v[0])\n",
    "v = np.frombuffer(d, dtype=np.uint64)*mpz(1)\n",
    "print(v.shape, v[0], gmpy2.popcount(v[0]))\n",
    "\n",
    "def count1s64(d):\n",
    "    v = np.frombuffer(d, dtype=np.uint64)\n",
    "    v = np.bitwise_and(v, 0x5555555555555555) + np.right_shift(np.bitwise_and(v, 0xAAAAAAAAAAAAAAAA), 1)\n",
    "    v = np.bitwise_and(v, 0x3333333333333333) + np.right_shift(np.bitwise_and(v, 0xCCCCCCCCCCCCCCCC), 2)\n",
    "    v = np.bitwise_and(v, 0x0F0F0F0F0F0F0F0F) + np.right_shift(np.bitwise_and(v, 0xF0F0F0F0F0F0F0F0), 4)\n",
    "    v = np.bitwise_and(v, 0x00FF00FF00FF00FF) + np.right_shift(np.bitwise_and(v, 0xFF00FF00FF00FF00), 8)\n",
    "    v = np.bitwise_and(v, 0x0000FFFF0000FFFF) + np.right_shift(np.bitwise_and(v, 0xFFFF0000FFFF0000), 16)\n",
    "    v = np.bitwise_and(v, 0x00000000FFFFFFFF) + np.right_shift(v, 32)\n",
    "    return v.sum()\n",
    "v = np.frombuffer(d, dtype=np.uint64)\n",
    "print(count1s64(d))"
   ]
  },
  {
   "cell_type": "code",
   "execution_count": 2,
   "metadata": {
    "collapsed": false
   },
   "outputs": [
    {
     "name": "stdout",
     "output_type": "stream",
     "text": [
      "1638868\n",
      "1638868\n",
      "1638868\n",
      "1638868\n",
      "1638868\n",
      "1638868\n"
     ]
    }
   ],
   "source": [
    "import numpy as np\n",
    "import gmpy2\n",
    "from gmpy2 import mpz\n",
    "\n",
    "import random, struct\n",
    "\n",
    "class popcount:\n",
    "    POPCOUNT_TABLE16 = np.zeros(2**16, dtype=int) #has to be an array\n",
    "\n",
    "    for index in range(len(POPCOUNT_TABLE16)):\n",
    "        POPCOUNT_TABLE16[index] = (index & 1) + POPCOUNT_TABLE16[index >> 1]\n",
    "\n",
    "    def popcount32_table16(v):\n",
    "        return (popcount.POPCOUNT_TABLE16[ v        & 0xffff] +\n",
    "                popcount.POPCOUNT_TABLE16[(v >> 16) & 0xffff])\n",
    "\n",
    "    def count1s(d):\n",
    "        v = np.frombuffer(d, dtype=np.uint32)\n",
    "        return popcount.popcount32_table16(v).sum()\n",
    "\n",
    "    POPCOUNT_TABLE16b = np.zeros(2**16, dtype=np.byte) #has to be an array\n",
    "\n",
    "    for index in range(len(POPCOUNT_TABLE16b)):\n",
    "        POPCOUNT_TABLE16b[index] = (index & 1) + POPCOUNT_TABLE16b[index >> 1]\n",
    "\n",
    "    def popcount32_table16b(v):\n",
    "        return (popcount.POPCOUNT_TABLE16b[ v        & 0xffff] +\n",
    "                popcount.POPCOUNT_TABLE16b[(v >> 16) & 0xffff])\n",
    "\n",
    "    def count1sb(d):\n",
    "        v = np.frombuffer(d, dtype=np.uint32)\n",
    "        return popcount.popcount32_table16b(v).sum()\n",
    "\n",
    "    m1  = 0x5555555555555555\n",
    "    m2  = 0x3333333333333333\n",
    "    m4  = 0x0f0f0f0f0f0f0f0f\n",
    "    m8  = 0x00ff00ff00ff00ff\n",
    "    m16 = 0x0000ffff0000ffff\n",
    "    m32 = 0x00000000ffffffff\n",
    "    h01 = 0x0101010101010101\n",
    "\n",
    "    def count1s64(d):\n",
    "        v = np.frombuffer(d, dtype=np.uint64)\n",
    "        v = np.bitwise_and(v, popcount.m1) + np.right_shift(np.bitwise_and(v, 0xAAAAAAAAAAAAAAAA), 1)\n",
    "        v = np.bitwise_and(v, popcount.m2) + np.right_shift(np.bitwise_and(v, 0xCCCCCCCCCCCCCCCC), 2)\n",
    "        v = np.bitwise_and(v, popcount.m4) + np.right_shift(np.bitwise_and(v, 0xF0F0F0F0F0F0F0F0), 4)\n",
    "        v = np.bitwise_and(v, popcount.m8) + np.right_shift(np.bitwise_and(v, 0xFF00FF00FF00FF00), 8)\n",
    "        v = np.bitwise_and(v, popcount.m16) + np.right_shift(np.bitwise_and(v, 0xFFFF0000FFFF0000), 16)\n",
    "        v = np.bitwise_and(v, popcount.m32) + np.right_shift(v, 32)\n",
    "        return v.sum()\n",
    "    \n",
    "    def count1s64_3(d):\n",
    "        v = np.frombuffer(d, dtype=np.uint64)\n",
    "        v = v - np.bitwise_and(np.right_shift(v, 1), popcount.m1)\n",
    "        v = np.bitwise_and(v, popcount.m2) + np.bitwise_and(np.right_shift(v, 2), popcount.m2)\n",
    "        v = np.bitwise_and(v + np.right_shift(v, 4), popcount.m4)\n",
    "        v = np.right_shift(v*popcount.h01, 56)\n",
    "        return v.sum()\n",
    "\n",
    "    ma = 0x01001001001001\n",
    "    mb = 0x84210842108421\n",
    "    \n",
    "    def count1s64_32(d):\n",
    "        v = np.frombuffer(d, dtype=np.uint32)\n",
    "        c = (  np.mod(np.bitwise_and(np.bitwise_and(v, 0xfff) * popcount.ma, popcount.mb), 0x1f)\n",
    "             + np.mod(np.bitwise_and(np.right_shift(np.bitwise_and(v, 0xfff000), 12) * popcount.ma, popcount.mb), 0x1f)\n",
    "             + np.mod(np.bitwise_and(np.right_shift(v, 24) * popcount.ma, popcount.mb), 0x1f)\n",
    "             )\n",
    "        return c.sum()\n",
    "\n",
    "    def gmpy2count1s(d):\n",
    "        v = np.frombuffer(d, dtype=np.uint64)*mpz(1)\n",
    "        return sum(gmpy2.popcount(a) for a in v)\n",
    "\n",
    "# not meant to be random\n",
    "random.seed(1)\n",
    "d = bytearray([random.randint(0,255) for i in range(409600)])\n",
    "\n",
    "print(popcount.count1s(d))\n",
    "print(popcount.count1sb(d))\n",
    "print(popcount.count1s64(d))\n",
    "print(popcount.count1s64_3(d))\n",
    "print(popcount.count1s64_32(d))\n",
    "print(popcount.gmpy2count1s(d))"
   ]
  },
  {
   "cell_type": "code",
   "execution_count": 3,
   "metadata": {
    "collapsed": false
   },
   "outputs": [],
   "source": [
    "import timeit\n",
    "from functools import partial\n",
    "\n",
    "import random\n",
    "# not meant to be random\n",
    "random.seed(1)\n",
    "d = bytearray([random.randint(0,255) for i in range(409600)])\n",
    "\n",
    "number = 2000\n",
    "\n",
    "repeat = 3"
   ]
  },
  {
   "cell_type": "code",
   "execution_count": 4,
   "metadata": {
    "collapsed": false
   },
   "outputs": [
    {
     "name": "stdout",
     "output_type": "stream",
     "text": [
      "[3.719270120956935, 3.565112615993712, 3.56609258800745]\n",
      "[2.8327555079595186, 2.7163443389581516, 2.887360363965854]\n",
      "[2.8160818380420096, 2.780999206006527, 2.815441971004475]\n",
      "[1.7871111790300347, 1.958980483992491, 1.892992699984461]\n",
      "[10.705752222042065, 9.834577971021645, 10.33591843402246]\n"
     ]
    }
   ],
   "source": [
    "print(timeit.repeat(partial(popcount.count1s, d), number=number, repeat=repeat))\n",
    "print(timeit.repeat(partial(popcount.count1sb, d), number=number, repeat=repeat))\n",
    "print(timeit.repeat(partial(popcount.count1s64, d), number=number, repeat=repeat))\n",
    "print(timeit.repeat(partial(popcount.count1s64_3, d), number=number, repeat=repeat))\n",
    "print(timeit.repeat(partial(popcount.count1s64_32, d), number=number, repeat=repeat))\n",
    "#print(timeit.repeat(\"popcount.gmpy2count1s(d)\", setup=setup, number=number, repeat=repeat)) # *10 than others\n"
   ]
  },
  {
   "cell_type": "markdown",
   "metadata": {},
   "source": [
    "Seems count1s64_3 is winner now."
   ]
  },
  {
   "cell_type": "code",
   "execution_count": null,
   "metadata": {
    "collapsed": true
   },
   "outputs": [],
   "source": []
  }
 ],
 "metadata": {
  "kernelspec": {
   "display_name": "Python 3",
   "language": "python",
   "name": "python3"
  },
  "language_info": {
   "codemirror_mode": {
    "name": "ipython",
    "version": 3
   },
   "file_extension": ".py",
   "mimetype": "text/x-python",
   "name": "python",
   "nbconvert_exporter": "python",
   "pygments_lexer": "ipython3",
   "version": "3.4.3"
  }
 },
 "nbformat": 4,
 "nbformat_minor": 0
}
